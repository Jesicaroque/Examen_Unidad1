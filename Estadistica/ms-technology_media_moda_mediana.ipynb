{
 "cells": [
  {
   "cell_type": "code",
   "execution_count": 11,
   "id": "geographic-smart",
   "metadata": {},
   "outputs": [
    {
     "name": "stdout",
     "output_type": "stream",
     "text": [
      "La acción más barata es: VHC VirnetX Holding Corp 5.36\n",
      "\n",
      "La acción más cara es: AVGOP Broadcom Inc. 1477.36\n",
      "\n",
      "La media de las acciones de tecnología es: 92.08292134831461\n",
      "La moda de las acciones de tecnología es: 0     7.26\n",
      "1     8.14\n",
      "2    13.90\n",
      "3    18.66\n",
      "4    30.80\n",
      "5    36.40\n",
      "6    42.50\n",
      "7    45.25\n",
      "8    47.63\n",
      "9    62.68\n",
      "dtype: float64\n",
      "La mediana de las acciones de tecnología es: 48.09\n",
      "\n",
      "La desviación estándar es de: 134.7912370405673\n"
     ]
    }
   ],
   "source": [
    "import pandas as pd\n",
    "import numpy as np\n",
    "\n",
    "df = pd.read_csv('csv-ms-technology/stock-ms-technology.csv').astype(str)\n",
    "\n",
    "df[\"Price (Intraday)\"] = df[\"Price (Intraday)\"].str.replace(\",\", \"\")\n",
    "df[\"Price (Intraday)\"] = pd.to_numeric(df[\"Price (Intraday)\"], errors=\"coerce\")\n",
    "\n",
    "minPrice = df.loc[df[\"Price (Intraday)\"] == df[\"Price (Intraday)\"].min()]\n",
    "maxPrice = df.loc[df[\"Price (Intraday)\"] == df[\"Price (Intraday)\"].max()]\n",
    "\n",
    "print(\"La acción más barata es: {} {} {}\\n\".format(minPrice[\"Symbol\"].values[0], minPrice[\"Name\"].values[0], minPrice[\"Price (Intraday)\"].values[0]))\n",
    "print(\"La acción más cara es: {} {} {}\\n\".format(maxPrice[\"Symbol\"].values[0], maxPrice[\"Name\"].values[0], maxPrice[\"Price (Intraday)\"].values[0]))\n",
    "      \n",
    "print(\"La media de las acciones de tecnología es: {}\".format(df[\"Price (Intraday)\"].mean()))\n",
    "print(\"La moda de las acciones de tecnología es: {}\".format(df[\"Price (Intraday)\"].mode()))\n",
    "print(\"La mediana de las acciones de tecnología es: {}\\n\".format(df[\"Price (Intraday)\"].median()))\n",
    "\n",
    "print(\"La desviación estándar es de: {}\".format(np.std(df[\"Price (Intraday)\"])))"
   ]
  },
  {
   "cell_type": "code",
   "execution_count": null,
   "id": "sufficient-bargain",
   "metadata": {},
   "outputs": [],
   "source": []
  }
 ],
 "metadata": {
  "kernelspec": {
   "display_name": "Python 3",
   "language": "python",
   "name": "python3"
  },
  "language_info": {
   "codemirror_mode": {
    "name": "ipython",
    "version": 3
   },
   "file_extension": ".py",
   "mimetype": "text/x-python",
   "name": "python",
   "nbconvert_exporter": "python",
   "pygments_lexer": "ipython3",
   "version": "3.6.9"
  }
 },
 "nbformat": 4,
 "nbformat_minor": 5
}
