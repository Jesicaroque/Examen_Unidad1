{
 "cells": [
  {
   "cell_type": "code",
   "execution_count": 1,
   "id": "ignored-paradise",
   "metadata": {},
   "outputs": [
    {
     "name": "stdout",
     "output_type": "stream",
     "text": [
      "<class 'str'>\n",
      "<class 'int'>\n",
      "<class 'float'>\n",
      "<class 'bool'>\n",
      "<class 'function'>\n"
     ]
    }
   ],
   "source": [
    "def prueba(a,b):\n",
    "    return a+b;\n",
    "\n",
    "val1 = \"Hola\"\n",
    "val2 = 100\n",
    "val3 = 7.10\n",
    "val4 = True\n",
    "val5 = prueba\n",
    "\n",
    "print(type(val1))\n",
    "print(type(val2))\n",
    "print(type(val3))\n",
    "print(type(val4))\n",
    "print(type(val5))"
   ]
  },
  {
   "cell_type": "code",
   "execution_count": 2,
   "id": "supposed-priority",
   "metadata": {},
   "outputs": [
    {
     "name": "stdout",
     "output_type": "stream",
     "text": [
      "12\n",
      "120\n"
     ]
    }
   ],
   "source": [
    "def mult(n1, n2, n3 = None):\n",
    "    if n3 == None:\n",
    "        return n1 * n2\n",
    "    else:\n",
    "        return n1 * n2 * n3\n",
    "\n",
    "mult1 = mult\n",
    "mult2 = mult\n",
    "\n",
    "print(mult1(3, 4))\n",
    "print(mult2(3, 4, 10))"
   ]
  },
  {
   "cell_type": "code",
   "execution_count": 3,
   "id": "lined-smell",
   "metadata": {},
   "outputs": [
    {
     "name": "stdout",
     "output_type": "stream",
     "text": [
      "Hola\n",
      "Soy\n",
      "Una\n",
      "Tupla\n",
      ":D\n"
     ]
    }
   ],
   "source": [
    "tupla = ('Hola', 'Soy', 'Una', 'Tupla', ':D')\n",
    "\n",
    "for i in tupla:\n",
    "    print(i)"
   ]
  },
  {
   "cell_type": "code",
   "execution_count": 4,
   "id": "qualified-ability",
   "metadata": {},
   "outputs": [
    {
     "name": "stdout",
     "output_type": "stream",
     "text": [
      "Yo\n",
      "soy\n",
      "una\n",
      "lista\n",
      ":3\n"
     ]
    }
   ],
   "source": [
    "lista = [\"Yo\", \"soy\", \"una\", \"lista\", \":3\"]\n",
    "\n",
    "for i in lista:\n",
    "    print(i)"
   ]
  },
  {
   "cell_type": "code",
   "execution_count": 5,
   "id": "legitimate-victor",
   "metadata": {},
   "outputs": [
    {
     "name": "stdout",
     "output_type": "stream",
     "text": [
      "Mínimo: 4\n",
      "Máximo: 22\n"
     ]
    }
   ],
   "source": [
    "listaNum = [4, 7, 22, 11, 17]\n",
    "\n",
    "print(\"Mínimo:\",min(listaNum))\n",
    "print(\"Máximo:\",max(listaNum))"
   ]
  },
  {
   "cell_type": "code",
   "execution_count": 6,
   "id": "laughing-growing",
   "metadata": {},
   "outputs": [
    {
     "name": "stdout",
     "output_type": "stream",
     "text": [
      "[4, 7, 22, 11, 17, 200, 'hola', 'adios']\n"
     ]
    }
   ],
   "source": [
    "listaNum.append(200)\n",
    "listaNum.append(\"hola\")\n",
    "listaNum.append(\"adios\")\n",
    "\n",
    "print(listaNum)"
   ]
  },
  {
   "cell_type": "code",
   "execution_count": 7,
   "id": "prepared-criminal",
   "metadata": {},
   "outputs": [
    {
     "name": "stdout",
     "output_type": "stream",
     "text": [
      "Primer elemento: 4\n"
     ]
    }
   ],
   "source": [
    "print(\"Primer elemento:\", listaNum[0])"
   ]
  },
  {
   "cell_type": "code",
   "execution_count": 8,
   "id": "disciplinary-knight",
   "metadata": {},
   "outputs": [
    {
     "name": "stdout",
     "output_type": "stream",
     "text": [
      "['Separar', 'esta', 'cadena', 'por', 'espacios']\n"
     ]
    }
   ],
   "source": [
    "cadena = \"Separar esta cadena por espacios\"\n",
    "print(cadena.split(\" \"))"
   ]
  },
  {
   "cell_type": "code",
   "execution_count": null,
   "id": "legendary-gross",
   "metadata": {},
   "outputs": [],
   "source": []
  }
 ],
 "metadata": {
  "kernelspec": {
   "display_name": "Python 3",
   "language": "python",
   "name": "python3"
  },
  "language_info": {
   "codemirror_mode": {
    "name": "ipython",
    "version": 3
   },
   "file_extension": ".py",
   "mimetype": "text/x-python",
   "name": "python",
   "nbconvert_exporter": "python",
   "pygments_lexer": "ipython3",
   "version": "3.6.9"
  }
 },
 "nbformat": 4,
 "nbformat_minor": 5
}
