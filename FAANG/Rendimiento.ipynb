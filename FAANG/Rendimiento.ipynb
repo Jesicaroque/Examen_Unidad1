{
 "cells": [
  {
   "cell_type": "code",
   "execution_count": 3,
   "id": "superb-spanish",
   "metadata": {
    "scrolled": true
   },
   "outputs": [
    {
     "name": "stdout",
     "output_type": "stream",
     "text": [
      "Frame: Face\tOpen 206.75\tClose 273.16\tFecha min: 2020-01-02 00:00:00\tFecha max: 2020-12-31 00:00:00\n",
      "Frame: Amaz\tOpen 1875.00\tClose 3256.93\tFecha min: 2020-01-02 00:00:00\tFecha max: 2020-12-31 00:00:00\n",
      "Frame: Apple\tOpen 74.06\tClose 132.69\tFecha min: 2020-01-02 00:00:00\tFecha max: 2020-12-31 00:00:00\n",
      "Frame: Net\tOpen 326.1\tClose 540.73\tFecha min: 2020-01-02 00:00:00\tFecha max: 2020-12-31 00:00:00\n",
      "Frame: Goo\tOpen 1341.55\tClose 1751.88\tFecha min: 2020-01-02 00:00:00\tFecha max: 2020-12-31 00:00:00\n",
      "\n",
      "Frame: Face\tOpen 274.78\tClose 268.4\tFecha min: 2021-01-04 00:00:00\tFecha max: 2021-03-12 00:00:00\n",
      "Frame: Ama\tOpen 3270.00\tClose 3089.49\tFecha min: 2021-01-04 00:00:00\tFecha max: 2021-03-12 00:00:00\n",
      "Frame: Apple\tOpen 133.52\tClose 121.03\tFecha min: 2021-01-04 00:00:00\tFecha max: 2021-03-12 00:00:00\n",
      "Frame: Net\tOpen 539.0\tClose 518.02\tFecha min: 2021-01-04 00:00:00\tFecha max: 2021-03-12 00:00:00\n",
      "Frame: Goo\tOpen 1757.54\tClose 2061.92\tFecha min: 2021-01-04 00:00:00\tFecha max: 2021-03-12 00:00:00\n",
      "\n",
      "La empresa FAANG con mayor rendimiento en el 2020:  Apple 179.16554145287603\n",
      "La empresa FAANG con mayor rendimiento en lo que va del 2021:  Google 117.31852475619331\n"
     ]
    }
   ],
   "source": [
    "import pandas as pd\n",
    "import numpy as np\n",
    "import matplotlib.pyplot as plt\n",
    "\n",
    "dffa = pd.read_csv('stock-facebook.csv').astype(str)\n",
    "dfam = pd.read_csv('stock-amazon.csv').astype(str)\n",
    "dfap = pd.read_csv('stock-apple.csv').astype(str)\n",
    "dfne = pd.read_csv('stock-netflix.csv').astype(str)\n",
    "dfgo = pd.read_csv('stock-google.csv').astype(str)\n",
    "\n",
    "def formatito():\n",
    "    dffa['Date'] = pd.to_datetime(dffa['Date'], format=\"%b %d, %Y\")\n",
    "    dfam['Date'] = pd.to_datetime(dfam['Date'], format=\"%b %d, %Y\")\n",
    "    dfap['Date'] = pd.to_datetime(dfap['Date'], format=\"%b %d, %Y\")\n",
    "    dfne['Date'] = pd.to_datetime(dfne['Date'], format=\"%b %d, %Y\")\n",
    "    dfgo['Date'] = pd.to_datetime(dfgo['Date'], format=\"%b %d, %Y\")\n",
    "\n",
    "def intervalos(dataframe, fechaData, fechita, nom):\n",
    "    dff_20 = dataframe.loc[fechaData <= fechita]\n",
    "    valUno = dff_20.loc[dff_20['Date'] == dff_20['Date'].min()]['Open'].str.replace(',', '')\n",
    "    valDos = dff_20.loc[dff_20['Date'] == dff_20['Date'].max()]['Close*'].str.replace(',', '')\n",
    "    print('Frame: {}\\tOpen {}\\tClose {}\\tFecha min: {}\\tFecha max: {}'.format(nom, valUno.values[0], valDos.values[0], dff_20['Date'].min(), dff_20['Date'].max()))\n",
    "    return (pd.to_numeric(valDos.values[0], errors = 'coerce')*100)/pd.to_numeric(valUno.values[0], errors = 'coerce')\n",
    "    \n",
    "def rendimiento():\n",
    "    dic2020 = {\n",
    "        'Facebook': intervalos(dffa, dffa['Date'], '2020-12-31', 'Face'),\n",
    "        'Amazon': intervalos(dfam, dfam['Date'], '2020-12-31', 'Amaz'),\n",
    "        'Apple': intervalos(dfap, dfap['Date'], '2020-12-31', 'Apple'),\n",
    "        'Netflix': intervalos(dfne, dfne['Date'], '2020-12-31', 'Net'),\n",
    "        'Google': intervalos(dfgo, dfgo['Date'], '2020-12-31', 'Goo')\n",
    "    }\n",
    "    print()\n",
    "    dic2021 = {\n",
    "        'Facebook': intervalos(dffa,  '2021-01-01', dffa['Date'], 'Face'),\n",
    "        'Amazon': intervalos(dfam, '2021-01-01',  dfam['Date'], 'Ama'),\n",
    "        'Apple': intervalos(dfap, '2021-01-01', dfap['Date'], 'Apple'),\n",
    "        'Netflix': intervalos(dfne, '2021-01-01',  dfne['Date'], 'Net'),\n",
    "        'Google': intervalos(dfgo, '2021-01-01',  dfgo['Date'], 'Goo')\n",
    "    }\n",
    "    \n",
    "    maxRen2020 = max(dic2020, key = dic2020.get)\n",
    "    print(\"\\nLa empresa FAANG con mayor rendimiento en el 2020: \", maxRen2020, dic2020[maxRen2020])\n",
    "    maxRen2021 = max(dic2021, key = dic2021.get)\n",
    "    print(\"La empresa FAANG con mayor rendimiento en lo que va del 2021: \", maxRen2021, dic2021[maxRen2021])\n",
    "    \n",
    "formatito()\n",
    "rendimiento()\n"
   ]
  },
  {
   "cell_type": "code",
   "execution_count": null,
   "id": "yellow-music",
   "metadata": {},
   "outputs": [],
   "source": []
  }
 ],
 "metadata": {
  "kernelspec": {
   "display_name": "Python 3",
   "language": "python",
   "name": "python3"
  },
  "language_info": {
   "codemirror_mode": {
    "name": "ipython",
    "version": 3
   },
   "file_extension": ".py",
   "mimetype": "text/x-python",
   "name": "python",
   "nbconvert_exporter": "python",
   "pygments_lexer": "ipython3",
   "version": "3.6.9"
  }
 },
 "nbformat": 4,
 "nbformat_minor": 5
}
