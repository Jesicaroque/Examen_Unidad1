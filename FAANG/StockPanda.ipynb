{
 "cells": [
  {
   "cell_type": "code",
   "execution_count": 1,
   "id": "compliant-reducing",
   "metadata": {},
   "outputs": [
    {
     "name": "stdout",
     "output_type": "stream",
     "text": [
      "    web-scraper-order                              web-scraper-start-url  \\\n",
      "0     1615854501-1063  https://finance.yahoo.com/quote/AAPL/history?p...   \n",
      "1      1615854501-929  https://finance.yahoo.com/quote/AAPL/history?p...   \n",
      "2     1615854501-1017  https://finance.yahoo.com/quote/AAPL/history?p...   \n",
      "3      1615854501-916  https://finance.yahoo.com/quote/AAPL/history?p...   \n",
      "4     1615854501-1123  https://finance.yahoo.com/quote/AAPL/history?p...   \n",
      "..                ...                                                ...   \n",
      "303    1615854501-849  https://finance.yahoo.com/quote/AAPL/history?p...   \n",
      "304    1615854501-828  https://finance.yahoo.com/quote/AAPL/history?p...   \n",
      "305   1615854501-1071  https://finance.yahoo.com/quote/AAPL/history?p...   \n",
      "306    1615854501-854  https://finance.yahoo.com/quote/AAPL/history?p...   \n",
      "307    1615854501-973  https://finance.yahoo.com/quote/AAPL/history?p...   \n",
      "\n",
      "             Date    Open  Close*  \n",
      "0    Apr 03, 2020   60.70   60.35  \n",
      "1    Oct 09, 2020  115.28  116.97  \n",
      "2    Jun 09, 2020   83.04   86.00  \n",
      "3    Oct 28, 2020  115.05  111.20  \n",
      "4    Jan 09, 2020   76.81   77.41  \n",
      "..            ...     ...     ...  \n",
      "303  Feb 03, 2021  135.76  133.94  \n",
      "304  Mar 04, 2021  121.75  120.13  \n",
      "305  Mar 24, 2020   59.09   61.72  \n",
      "306  Jan 27, 2021  143.43  142.06  \n",
      "307  Aug 10, 2020  112.60  112.73  \n",
      "\n",
      "[308 rows x 5 columns]\n"
     ]
    }
   ],
   "source": [
    "import pandas as pd\n",
    "\n",
    "df = pd.read_csv('stock.csv', low_memory = False)\n",
    "\n",
    "print(df)"
   ]
  },
  {
   "cell_type": "code",
   "execution_count": 15,
   "id": "northern-profile",
   "metadata": {},
   "outputs": [],
   "source": [
    "promAccion = df['closeDay0'].mean()"
   ]
  },
  {
   "cell_type": "code",
   "execution_count": 16,
   "id": "boring-clone",
   "metadata": {},
   "outputs": [
    {
     "name": "stdout",
     "output_type": "stream",
     "text": [
      "El promedio de una acción al cerrar en su primer día en el mercado de valores es: 1512035.7454957203\n"
     ]
    }
   ],
   "source": [
    "print(\"El promedio de una acción al cerrar en su primer día en el mercado de valores es:\", promAccion)"
   ]
  },
  {
   "cell_type": "code",
   "execution_count": null,
   "id": "hazardous-laser",
   "metadata": {},
   "outputs": [],
   "source": []
  }
 ],
 "metadata": {
  "kernelspec": {
   "display_name": "Python 3",
   "language": "python",
   "name": "python3"
  },
  "language_info": {
   "codemirror_mode": {
    "name": "ipython",
    "version": 3
   },
   "file_extension": ".py",
   "mimetype": "text/x-python",
   "name": "python",
   "nbconvert_exporter": "python",
   "pygments_lexer": "ipython3",
   "version": "3.6.9"
  }
 },
 "nbformat": 4,
 "nbformat_minor": 5
}
