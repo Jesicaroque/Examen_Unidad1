{
 "cells": [
  {
   "cell_type": "code",
   "execution_count": 10,
   "id": "compliant-reducing",
   "metadata": {},
   "outputs": [
    {
     "name": "stdout",
     "output_type": "stream",
     "text": [
      "     Symbol  DaysBetterThanSP  daysProfit daysProfitGrouped  exactDiffernce  \\\n",
      "0         A               122         249              200+             NaN   \n",
      "1       AAC               131         262              200+           232.0   \n",
      "2      AAOI               125         262              200+          6054.0   \n",
      "3       AAP               128         261              200+             NaN   \n",
      "4       AAT               123         127         100 - 149           181.0   \n",
      "...     ...               ...         ...               ...             ...   \n",
      "3757   ZUMZ               139         261              200+             NaN   \n",
      "3758    ZUO                 5           7            0 - 49             NaN   \n",
      "3759     ZX               102          25            0 - 49          1035.0   \n",
      "3760   ZYME               115          19            0 - 49             NaN   \n",
      "3761   ZYNE               104          42            0 - 49          3108.0   \n",
      "\n",
      "      Year  Month  Day  dayOfWeek  closeDay0  ...  usableCEOAge  \\\n",
      "0     1999     11   18          3    28.6358  ...         Blank   \n",
      "1     2014     10    2          3    18.5000  ...       40 - 49   \n",
      "2     2013      9   26          3     9.9600  ...         Blank   \n",
      "3     2001     11   29          3    13.9000  ...         Blank   \n",
      "4     2011      1   13          3    21.2500  ...         Blank   \n",
      "...    ...    ...  ...        ...        ...  ...           ...   \n",
      "3757  2005      5    6          4    12.4350  ...         Blank   \n",
      "3758  2018      4   12          3    20.0000  ...           NaN   \n",
      "3759  2011      5   12          3     5.8500  ...       Unknown   \n",
      "3760  2017      4   28          4    13.0000  ...       Unknown   \n",
      "3761  2015      8    5          2    16.2500  ...       50 - 59   \n",
      "\n",
      "      usableCEOGender  usablePresidentAge  usablePresidentGender  \\\n",
      "0               Blank               Blank                  Blank   \n",
      "1                male               Blank                  Blank   \n",
      "2               Blank               Blank                  Blank   \n",
      "3               Blank               Blank                  Blank   \n",
      "4               Blank               Blank                  Blank   \n",
      "...               ...                 ...                    ...   \n",
      "3757            Blank               Blank                  Blank   \n",
      "3758      mostly_male             Unknown                Unknown   \n",
      "3759          Unknown             Unknown                Unknown   \n",
      "3760          Unknown             Unknown                Unknown   \n",
      "3761             male             50 - 59                 female   \n",
      "\n",
      "      FoundingDateGrouped  yearDifferenceGrouped  Profitable  Safe  \\\n",
      "0             1951 - 2000                Unknown           1     0   \n",
      "1          2011 - present                Unknown           1     1   \n",
      "2             1951 - 2000                Unknown           1     0   \n",
      "3             1901 - 1950                Unknown           1     0   \n",
      "4             2001 - 2010                Unknown           0     0   \n",
      "...                   ...                    ...         ...   ...   \n",
      "3757          1951 - 2000                Unknown           1     1   \n",
      "3758          2001 - 2010                Unknown           0     0   \n",
      "3759          2001 - 2010                Unknown           0     0   \n",
      "3760          2001 - 2010                Unknown           0     0   \n",
      "3761          2001 - 2010                Unknown           0     0   \n",
      "\n",
      "      HomeRunDay  HomeRun  \n",
      "0           77.0        1  \n",
      "1            NaN        0  \n",
      "2            NaN        0  \n",
      "3            NaN        0  \n",
      "4            NaN        0  \n",
      "...          ...      ...  \n",
      "3757       234.0        1  \n",
      "3758         NaN        0  \n",
      "3759         NaN        0  \n",
      "3760         NaN        0  \n",
      "3761         NaN        0  \n",
      "\n",
      "[3762 rows x 1664 columns]\n"
     ]
    }
   ],
   "source": [
    "import pandas as pd\n",
    "\n",
    "df = pd.read_csv('stock.csv', low_memory = False)\n",
    "\n",
    "print(df)"
   ]
  },
  {
   "cell_type": "code",
   "execution_count": 15,
   "id": "northern-profile",
   "metadata": {},
   "outputs": [],
   "source": [
    "promAccion = df['closeDay0'].mean()"
   ]
  },
  {
   "cell_type": "code",
   "execution_count": 16,
   "id": "boring-clone",
   "metadata": {},
   "outputs": [
    {
     "name": "stdout",
     "output_type": "stream",
     "text": [
      "El promedio de una acción al cerrar en su primer día en el mercado de valores es: 1512035.7454957203\n"
     ]
    }
   ],
   "source": [
    "print(\"El promedio de una acción al cerrar en su primer día en el mercado de valores es:\", promAccion)"
   ]
  },
  {
   "cell_type": "code",
   "execution_count": null,
   "id": "hazardous-laser",
   "metadata": {},
   "outputs": [],
   "source": []
  }
 ],
 "metadata": {
  "kernelspec": {
   "display_name": "Python 3",
   "language": "python",
   "name": "python3"
  },
  "language_info": {
   "codemirror_mode": {
    "name": "ipython",
    "version": 3
   },
   "file_extension": ".py",
   "mimetype": "text/x-python",
   "name": "python",
   "nbconvert_exporter": "python",
   "pygments_lexer": "ipython3",
   "version": "3.6.9"
  }
 },
 "nbformat": 4,
 "nbformat_minor": 5
}
