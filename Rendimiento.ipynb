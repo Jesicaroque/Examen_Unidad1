{
 "cells": [
  {
   "cell_type": "code",
   "execution_count": 66,
   "id": "superb-spanish",
   "metadata": {},
   "outputs": [
    {
     "name": "stdout",
     "output_type": "stream",
     "text": [
      "\n",
      "La empresa FAANG con mayor rendimiento en el 2020:  Apple\n",
      "La empresa FAANG con mayor rendimiento en lo que va del 2021:  Google\n"
     ]
    }
   ],
   "source": [
    "import pandas as pd\n",
    "\n",
    "dffa = pd.read_csv('stock-facebook.csv').astype(str)\n",
    "dfam = pd.read_csv('stock-amazon.csv').astype(str)\n",
    "dfap = pd.read_csv('stock-apple.csv').astype(str)\n",
    "dfne = pd.read_csv('stock-netflix.csv').astype(str)\n",
    "dfgo = pd.read_csv('stock-google.csv').astype(str)\n",
    "\n",
    "def formatito():\n",
    "    dffa['Date'] = pd.to_datetime(dffa['Date'], format=\"%b %d, %Y\")\n",
    "    dfam['Date'] = pd.to_datetime(dfam['Date'], format=\"%b %d, %Y\")\n",
    "    dfap['Date'] = pd.to_datetime(dfap['Date'], format=\"%b %d, %Y\")\n",
    "    dfne['Date'] = pd.to_datetime(dfne['Date'], format=\"%b %d, %Y\")\n",
    "    dfgo['Date'] = pd.to_datetime(dfgo['Date'], format=\"%b %d, %Y\")\n",
    "\n",
    "def intervalos(dataframe, fechaData, fechita):\n",
    "    dff_20 = dataframe.loc[fechaData <= fechita]\n",
    "    valUno = dff_20.loc[dff_20['Date'] == dff_20['Date'].min()]['Open'].str.replace(',', '')\n",
    "    valDos = dff_20.loc[dff_20['Date'] == dff_20['Date'].max()]['Close*'].str.replace(',', '')\n",
    "    return (pd.to_numeric(valDos.values[0], errors = 'coerce')*100)/pd.to_numeric(valUno.values[0], errors = 'coerce')\n",
    "    \n",
    "def rendimiento():\n",
    "    dic2020 = {\n",
    "        'Facebook': intervalos(dffa, dffa['Date'], '2020-12-31'),\n",
    "        'Amazon': intervalos(dfam, dfam['Date'], '2020-12-31'),\n",
    "        'Apple': intervalos(dfap, dfap['Date'], '2020-12-31'),\n",
    "        'Netflix': intervalos(dfne, dfne['Date'], '2020-12-31'),\n",
    "        'Google': intervalos(dfgo, dfgo['Date'], '2020-12-31')\n",
    "    }\n",
    "    \n",
    "    dic2021 = {\n",
    "        'Facebook': intervalos(dffa,  '2020-12-31', dffa['Date']),\n",
    "        'Amazon': intervalos(dfam, '2020-12-31',  dfam['Date']),\n",
    "        'Apple': intervalos(dfap, '2020-12-31', dfap['Date']),\n",
    "        'Netflix': intervalos(dfne, '2020-12-31',  dfne['Date']),\n",
    "        'Google': intervalos(dfgo, '2020-12-31',  dfgo['Date'])\n",
    "    }\n",
    "    \n",
    "    maxRen2020 = max(dic2020, key = dic2020.get)\n",
    "    print(\"\\nLa empresa FAANG con mayor rendimiento en el 2020: \", maxRen2020)\n",
    "    maxRen2021 = max(dic2021, key = dic2021.get)\n",
    "    print(\"La empresa FAANG con mayor rendimiento en lo que va del 2021: \", maxRen2021)\n",
    "    \n",
    "formatito()\n",
    "rendimiento()\n"
   ]
  },
  {
   "cell_type": "code",
   "execution_count": null,
   "id": "yellow-music",
   "metadata": {},
   "outputs": [],
   "source": []
  }
 ],
 "metadata": {
  "kernelspec": {
   "display_name": "Python 3",
   "language": "python",
   "name": "python3"
  },
  "language_info": {
   "codemirror_mode": {
    "name": "ipython",
    "version": 3
   },
   "file_extension": ".py",
   "mimetype": "text/x-python",
   "name": "python",
   "nbconvert_exporter": "python",
   "pygments_lexer": "ipython3",
   "version": "3.6.9"
  }
 },
 "nbformat": 4,
 "nbformat_minor": 5
}
